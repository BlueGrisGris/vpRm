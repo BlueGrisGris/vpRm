{
 "cells": [
  {
   "cell_type": "code",
   "execution_count": null,
   "metadata": {
    "jukit_cell_id": "NONE"
   },
   "outputs": [],
   "source": [
    "import ee\n",
    "\n",
    "### only need to do 1st time using python ee api\n",
    "#ee.Authenticate() \n",
    "\n",
    "### dirty workaround for ee damage:\n",
    "### https://github.com/google/earthengine-api/issues/181\n",
    "import collections\n",
    "collections.Callable = collections.abc.Callable\n",
    "\n",
    "ee.Initialize() \n",
    "### set temporal extent\n",
    "start_date = \"2020-01-01\"\n",
    "end_date = \"2020-01-31\"\n",
    "#end_date = \"2020-12-31\"\n",
    "\n",
    "### get spatial extent of yangs slant feet\n",
    "import netCDF4 as nc \n",
    "import numpy as np\n",
    "\n",
    "stilt_dir = \"/Users/ethan/Desktop/research/vpRm/inst/test_data/stilt_test/by-id/01\"\n",
    "stilt_filename = stilt_dir + \"/01_foot.nc\"\n",
    "stilt = nc.Dataset(stilt_filename) \n",
    "#foot = stilt[\"foot\"]\n",
    "\n",
    "print(f'max lon {np.max(stilt[\"lon\"])}')\n",
    "print(f'min lon {np.min(stilt[\"lon\"])}')\n",
    "print(f'max lat {np.min(stilt[\"lat\"])}')\n",
    "print(f'min lat {np.max(stilt[\"lat\"])}')\n",
    "\n",
    "lon_max = np.max(stilt[\"lon\"])\n",
    "lon_min = np.min(stilt[\"lon\"])\n",
    "lat_max = np.max(stilt[\"lat\"])\n",
    "lat_min = np.min(stilt[\"lat\"])\n",
    "\n",
    "roi = ee.Geometry.Rectangle(lon_min, lat_min, lon_max, lat_max)\n",
    "### still don't understand how this is\n",
    "region = roi.buffer(1000)\n",
    "\n",
    "evi = ee.ImageCollection(\"LANDSAT/LC08/C01/T1_8DAY_EVI\")\\\n",
    "        .filterDate(start_date, end_date)\\\n",
    "        .filterBounds(roi)\\\n",
    "        .select(\"EVI\")"
   ]
  },
  {
   "cell_type": "code",
   "execution_count": 8,
   "metadata": {
    "jukit_cell_id": "NONE"
   },
   "outputs": [],
   "source": [
    "import geemap\n",
    "colorizedVis = {\n",
    "  min: 0.0,\n",
    "  max: 1.0,\n",
    "  \"palette\": [\n",
    "    'FFFFFF', 'CE7E45', 'DF923D', 'F1B555', 'FCD163', '99B718', '74A901',\n",
    "    '66A000', '529400', '3E8601', '207401', '056201', '004C00', '023B01',\n",
    "    '012E01', '011D01', '011301'\n",
    "  ],\n",
    "}\n",
    "mm = geemap.Map()\n",
    "mm.addLayer(evi, colorizedVis)"
   ]
  },
  {
   "cell_type": "code",
   "execution_count": 9,
   "metadata": {},
   "outputs": [
    {
     "data": {
      "application/vnd.jupyter.widget-view+json": {
       "model_id": "b70b7ac9af744c579f9e02fe3dc8b99f",
       "version_major": 2,
       "version_minor": 0
      },
      "text/plain": [
       "Map(center=[20, 0], controls=(WidgetControl(options=['position', 'transparent_bg'], widget=HBox(children=(Togg…"
      ]
     },
     "metadata": {},
     "output_type": "display_data"
    }
   ],
   "source": [
    "mm"
   ]
  },
  {
   "cell_type": "code",
   "execution_count": null,
   "metadata": {
    "jukit_cell_id": "NONE"
   },
   "outputs": [],
   "source": [
    "#out_dir = \"/n/wofsy_lab2/Users/emanninen/vprm/driver_data/landsat/landsat7\"\n",
    "out_dir = \"landsat_evi\"\n",
    "\n",
    "geemap.ee_export_image_collection(evi, out_dir, region = region)"
   ]
  }
 ],
 "metadata": {
  "anaconda-cloud": {},
  "kernelspec": {
   "display_name": "Python 3 (ipykernel)",
   "language": "python",
   "name": "python3"
  },
  "language_info": {
   "codemirror_mode": {
    "name": "ipython",
    "version": 3
   },
   "file_extension": ".py",
   "mimetype": "text/x-python",
   "name": "python",
   "nbconvert_exporter": "python",
   "pygments_lexer": "ipython3",
   "version": "3.10.4"
  }
 },
 "nbformat": 4,
 "nbformat_minor": 4
}
