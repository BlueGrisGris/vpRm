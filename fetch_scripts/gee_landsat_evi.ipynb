{
 "cells": [
  {
   "cell_type": "code",
   "execution_count": 1,
   "metadata": {
    "jukit_cell_id": "NONE"
   },
   "outputs": [
    {
     "name": "stdout",
     "output_type": "stream",
     "text": [
      "max lon -71.2523\n",
      "min lon -73.1273\n",
      "max lat 41.5956\n",
      "min lat 43.4706\n",
      "Total number of images: 4\n",
      "\n",
      "Exporting 1/4: 20200101.tif\n",
      "Generating URL ...\n",
      "Downloading data from https://earthengine.googleapis.com/v1alpha/projects/earthengine-legacy/thumbnails/0344fe7271d866a9985f6503ae3843e4-c854ef42ed1b06463b7ce46a17c731ff:getPixels\n",
      "Please wait ...\n",
      "Data downloaded to /Users/ethan/Desktop/research/phd/em27_carbfor/vprm/ftp_scripts/landsat_evi/20200101.tif\n",
      "\n",
      "\n",
      "Exporting 2/4: 20200109.tif\n",
      "Generating URL ...\n",
      "Downloading data from https://earthengine.googleapis.com/v1alpha/projects/earthengine-legacy/thumbnails/ce89e4f78df7a2df510202fedc122c45-0ff9df16bcdb20a17a20e7214a16c9b3:getPixels\n",
      "Please wait ...\n",
      "Data downloaded to /Users/ethan/Desktop/research/phd/em27_carbfor/vprm/ftp_scripts/landsat_evi/20200109.tif\n",
      "\n",
      "\n",
      "Exporting 3/4: 20200117.tif\n",
      "Generating URL ...\n",
      "Downloading data from https://earthengine.googleapis.com/v1alpha/projects/earthengine-legacy/thumbnails/c6ea715de3c5b5e1e4339fd8ab6f152c-8716421ce1b505bfc6a2f99903332457:getPixels\n",
      "Please wait ...\n",
      "Data downloaded to /Users/ethan/Desktop/research/phd/em27_carbfor/vprm/ftp_scripts/landsat_evi/20200117.tif\n",
      "\n",
      "\n",
      "Exporting 4/4: 20200125.tif\n",
      "Generating URL ...\n",
      "Downloading data from https://earthengine.googleapis.com/v1alpha/projects/earthengine-legacy/thumbnails/d854b2bffe45e90e356cfb8864efa533-b3f08ac14e94bbba39bd90e334fd1a1c:getPixels\n",
      "Please wait ...\n",
      "Data downloaded to /Users/ethan/Desktop/research/phd/em27_carbfor/vprm/ftp_scripts/landsat_evi/20200125.tif\n",
      "\n",
      "\n"
     ]
    }
   ],
   "source": [
    "import ee\n",
    "\n",
    "### only need to do 1st time using python ee api\n",
    "#ee.Authenticate() \n",
    "\n",
    "### dirty workaround for ee damage:\n",
    "### https://github.com/google/earthengine-api/issues/181\n",
    "import collections\n",
    "collections.Callable = collections.abc.Callable\n",
    "\n",
    "ee.Initialize() \n",
    "### set temporal extent\n",
    "start_date = \"2020-01-01\"\n",
    "end_date = \"2020-01-31\"\n",
    "#end_date = \"2020-12-31\"\n",
    "\n",
    "### get spatial extent of yangs slant feet\n",
    "import netCDF4 as nc \n",
    "import numpy as np\n",
    "\n",
    "stilt_dir = \"/Users/ethan/Desktop/research/vpRm/inst/test_data/stilt_test/by-id/01\"\n",
    "stilt_filename = stilt_dir + \"/01_foot.nc\"\n",
    "stilt = nc.Dataset(stilt_filename) \n",
    "#foot = stilt[\"foot\"]\n",
    "\n",
    "print(f'max lon {np.max(stilt[\"lon\"])}')\n",
    "print(f'min lon {np.min(stilt[\"lon\"])}')\n",
    "print(f'max lat {np.min(stilt[\"lat\"])}')\n",
    "print(f'min lat {np.max(stilt[\"lat\"])}')\n",
    "\n",
    "lon_max = np.max(stilt[\"lon\"])\n",
    "lon_min = np.min(stilt[\"lon\"])\n",
    "lat_max = np.max(stilt[\"lat\"])\n",
    "lat_min = np.min(stilt[\"lat\"])\n",
    "\n",
    "roi = ee.Geometry.Rectangle(lon_min, lat_min, lon_max, lat_max)\n",
    "### still don't understand how this is\n",
    "region = roi.buffer(1000)\n",
    "\n",
    "evi = ee.ImageCollection(\"LANDSAT/LC08/C01/T1_8DAY_EVI\")\\\n",
    "        .filterDate(start_date, end_date)\\\n",
    "        .filterBounds(roi)\\\n",
    "        .select(\"EVI\")\n",
    "\n",
    "import geemap\n",
    "\n",
    "\n",
    "#out_dir = \"/n/wofsy_lab2/Users/emanninen/vprm/driver_data/landsat/landsat7\"\n",
    "out_dir = \"landsat_evi\"\n",
    "\n",
    "geemap.ee_export_image_collection(evi, out_dir, region = region)"
   ]
  },
  {
   "cell_type": "code",
   "execution_count": 3,
   "metadata": {},
   "outputs": [
    {
     "ename": "NameError",
     "evalue": "name 'palette' is not defined",
     "output_type": "error",
     "traceback": [
      "\u001b[0;31m---------------------------------------------------------------------------\u001b[0m",
      "\u001b[0;31mNameError\u001b[0m                                 Traceback (most recent call last)",
      "Input \u001b[0;32mIn [3]\u001b[0m, in \u001b[0;36m<cell line: 3>\u001b[0;34m()\u001b[0m\n\u001b[1;32m      1\u001b[0m mm \u001b[38;5;241m=\u001b[39m geemap\u001b[38;5;241m.\u001b[39mMap()\n\u001b[1;32m      2\u001b[0m colorizedVis \u001b[38;5;241m=\u001b[39m {\n\u001b[1;32m      3\u001b[0m   \u001b[38;5;28mmin\u001b[39m: \u001b[38;5;241m0.0\u001b[39m,\n\u001b[1;32m      4\u001b[0m   \u001b[38;5;28mmax\u001b[39m: \u001b[38;5;241m1.0\u001b[39m,\n\u001b[0;32m----> 5\u001b[0m   \u001b[43mpalette\u001b[49m: [\n\u001b[1;32m      6\u001b[0m     \u001b[38;5;124m'\u001b[39m\u001b[38;5;124mFFFFFF\u001b[39m\u001b[38;5;124m'\u001b[39m, \u001b[38;5;124m'\u001b[39m\u001b[38;5;124mCE7E45\u001b[39m\u001b[38;5;124m'\u001b[39m, \u001b[38;5;124m'\u001b[39m\u001b[38;5;124mDF923D\u001b[39m\u001b[38;5;124m'\u001b[39m, \u001b[38;5;124m'\u001b[39m\u001b[38;5;124mF1B555\u001b[39m\u001b[38;5;124m'\u001b[39m, \u001b[38;5;124m'\u001b[39m\u001b[38;5;124mFCD163\u001b[39m\u001b[38;5;124m'\u001b[39m, \u001b[38;5;124m'\u001b[39m\u001b[38;5;124m99B718\u001b[39m\u001b[38;5;124m'\u001b[39m, \u001b[38;5;124m'\u001b[39m\u001b[38;5;124m74A901\u001b[39m\u001b[38;5;124m'\u001b[39m,\n\u001b[1;32m      7\u001b[0m     \u001b[38;5;124m'\u001b[39m\u001b[38;5;124m66A000\u001b[39m\u001b[38;5;124m'\u001b[39m, \u001b[38;5;124m'\u001b[39m\u001b[38;5;124m529400\u001b[39m\u001b[38;5;124m'\u001b[39m, \u001b[38;5;124m'\u001b[39m\u001b[38;5;124m3E8601\u001b[39m\u001b[38;5;124m'\u001b[39m, \u001b[38;5;124m'\u001b[39m\u001b[38;5;124m207401\u001b[39m\u001b[38;5;124m'\u001b[39m, \u001b[38;5;124m'\u001b[39m\u001b[38;5;124m056201\u001b[39m\u001b[38;5;124m'\u001b[39m, \u001b[38;5;124m'\u001b[39m\u001b[38;5;124m004C00\u001b[39m\u001b[38;5;124m'\u001b[39m, \u001b[38;5;124m'\u001b[39m\u001b[38;5;124m023B01\u001b[39m\u001b[38;5;124m'\u001b[39m,\n\u001b[1;32m      8\u001b[0m     \u001b[38;5;124m'\u001b[39m\u001b[38;5;124m012E01\u001b[39m\u001b[38;5;124m'\u001b[39m, \u001b[38;5;124m'\u001b[39m\u001b[38;5;124m011D01\u001b[39m\u001b[38;5;124m'\u001b[39m, \u001b[38;5;124m'\u001b[39m\u001b[38;5;124m011301\u001b[39m\u001b[38;5;124m'\u001b[39m\n\u001b[1;32m      9\u001b[0m   ],\n\u001b[1;32m     10\u001b[0m }\n\u001b[1;32m     11\u001b[0m mm\u001b[38;5;241m.\u001b[39maddLayer(evi,colorizedVis)\n\u001b[1;32m     12\u001b[0m mm\n",
      "\u001b[0;31mNameError\u001b[0m: name 'palette' is not defined"
     ]
    }
   ],
   "source": [
    "mm = geemap.Map()\n",
    "colorizedVis = {\n",
    "  min: 0.0,\n",
    "  max: 1.0,\n",
    "  palette: [\n",
    "    'FFFFFF', 'CE7E45', 'DF923D', 'F1B555', 'FCD163', '99B718', '74A901',\n",
    "    '66A000', '529400', '3E8601', '207401', '056201', '004C00', '023B01',\n",
    "    '012E01', '011D01', '011301'\n",
    "  ],\n",
    "}\n",
    "mm.addLayer(evi,colorizedVis)\n",
    "mm"
   ]
  }
 ],
 "metadata": {
  "anaconda-cloud": {},
  "kernelspec": {
   "display_name": "Python 3 (ipykernel)",
   "language": "python",
   "name": "python3"
  },
  "language_info": {
   "codemirror_mode": {
    "name": "ipython",
    "version": 3
   },
   "file_extension": ".py",
   "mimetype": "text/x-python",
   "name": "python",
   "nbconvert_exporter": "python",
   "pygments_lexer": "ipython3",
   "version": "3.10.4"
  }
 },
 "nbformat": 4,
 "nbformat_minor": 4
}
